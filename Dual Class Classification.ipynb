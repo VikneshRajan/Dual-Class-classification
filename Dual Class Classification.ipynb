{
  "nbformat": 4,
  "nbformat_minor": 0,
  "metadata": {
    "colab": {
      "name": "IoT_plant_health_monitoring.ipynb",
      "provenance": []
    },
    "kernelspec": {
      "name": "python3",
      "display_name": "Python 3"
    },
    "accelerator": "GPU"
  },
  "cells": [
    {
      "cell_type": "code",
      "metadata": {
        "id": "yozw4z9WXw2F"
      },
      "source": [
        "from tensorflow.keras.preprocessing.image import ImageDataGenerator\n",
        "from tensorflow.keras.applications import MobileNetV2\n",
        "from tensorflow.keras.layers import AveragePooling2D\n",
        "from tensorflow.keras.layers import Dropout\n",
        "from tensorflow.keras.layers import Flatten\n",
        "from tensorflow.keras.layers import Dense\n",
        "from tensorflow.keras.layers import Input\n",
        "from tensorflow.keras.models import Model\n",
        "from tensorflow.keras.optimizers import Adam\n",
        "from tensorflow.keras.applications.mobilenet_v2 import preprocess_input\n",
        "from tensorflow.keras.preprocessing.image import img_to_array\n",
        "from tensorflow.keras.preprocessing.image import load_img\n",
        "from tensorflow.keras.utils import to_categorical\n",
        "from sklearn.preprocessing import LabelBinarizer\n",
        "from sklearn.model_selection import train_test_split\n",
        "from sklearn.metrics import classification_report\n",
        "from imutils import paths\n",
        "import matplotlib.pyplot as plt\n",
        "import numpy as np\n",
        "import argparse\n",
        "import os\n",
        "import urllib.request\n",
        "import requests"
      ],
      "execution_count": null,
      "outputs": []
    },
    {
      "cell_type": "code",
      "metadata": {
        "id": "_z-sSGIeYSTk"
      },
      "source": [
        "files = os.listdir(\"/content/drive/My Drive/leaves/\")\n",
        "path = \"/content/drive/My Drive/leaves/\" + files[0]\n",
        "print(os.listdir(path))"
      ],
      "execution_count": null,
      "outputs": []
    },
    {
      "cell_type": "code",
      "metadata": {
        "id": "Qn2AxFInRpAD"
      },
      "source": [
        "def prep(data_folder_path):\n",
        "    dirs = os.listdir(data_folder_path)\n",
        "    \n",
        "    images = []\n",
        "    labels = []\n",
        "  \n",
        "    for dir_name in dirs:\n",
        "        print(dir_name)\n",
        "  \n",
        "            \n",
        "        if dir_name=='dry':\n",
        "\n",
        "          label = 0\n",
        "          \n",
        "        elif dir_name=='green':\n",
        "          label= 1\n",
        "        \n",
        "        \n",
        "        subject_dir_path = data_folder_path + \"/\" + dir_name\n",
        "        \n",
        "        \n",
        "        subject_images_names = os.listdir(subject_dir_path)\n",
        "      \n",
        "        for image_name in subject_images_names:\n",
        "           \n",
        "            if image_name.startswith(\".\"):\n",
        "                continue;\n",
        "            \n",
        "           \n",
        "            image_path = subject_dir_path + \"/\" + image_name\n",
        "            \n",
        "\n",
        "            \n",
        "            \n",
        "           \n",
        "            images.append( image_path)            \n",
        "            labels.append(label)\n",
        "            \n",
        "            \n",
        "            \n",
        "    return images,labels"
      ],
      "execution_count": null,
      "outputs": []
    },
    {
      "cell_type": "code",
      "metadata": {
        "id": "n1tB0FTqTksS"
      },
      "source": [
        ""
      ],
      "execution_count": null,
      "outputs": []
    },
    {
      "cell_type": "code",
      "metadata": {
        "id": "nSeE1vwtRq6r"
      },
      "source": [
        "path = \"/content/drive/My Drive/leaves/\"\n",
        "train_img , train_lab = prep(path)"
      ],
      "execution_count": null,
      "outputs": []
    },
    {
      "cell_type": "code",
      "metadata": {
        "id": "nf32ZyQVRtLU"
      },
      "source": [
        "print(train_lab)"
      ],
      "execution_count": null,
      "outputs": []
    },
    {
      "cell_type": "code",
      "metadata": {
        "id": "qCwcxFnlR8Hz"
      },
      "source": [
        "train_data = []\n",
        "c=0\n",
        "for path in train_img:\n",
        "  img = load_img(path,target_size=(224,224))\n",
        "  img = img_to_array(img)\n",
        "  img = preprocess_input(img)\n",
        "  train_data.append(img)\n",
        "  c+=1\n",
        "  print(c)"
      ],
      "execution_count": null,
      "outputs": []
    },
    {
      "cell_type": "code",
      "metadata": {
        "id": "RtqdmW6jR-G6"
      },
      "source": [
        "trainY = np.array(train_data) \n",
        "trainX = np.array(train_lab)"
      ],
      "execution_count": null,
      "outputs": []
    },
    {
      "cell_type": "code",
      "metadata": {
        "id": "sd-p_76ESBM0"
      },
      "source": [
        "aug = ImageDataGenerator(\n",
        "\trotation_range=20,\n",
        "\tzoom_range=0.15,\n",
        "\twidth_shift_range=0.2,\n",
        "\theight_shift_range=0.2,\n",
        "\tshear_range=0.15,\n",
        "\thorizontal_flip=True,\n",
        "\tfill_mode=\"nearest\")"
      ],
      "execution_count": null,
      "outputs": []
    },
    {
      "cell_type": "code",
      "metadata": {
        "id": "a1v0OL3DSGlz"
      },
      "source": [
        "baseModel = MobileNetV2(weights=\"imagenet\", include_top=False,\n",
        "\tinput_tensor=Input(shape=(224, 224, 3)))\n",
        "headModel = baseModel.output\n",
        "headModel = AveragePooling2D(pool_size=(7, 7))(headModel)\n",
        "headModel = Flatten(name=\"flatten\")(headModel)\n",
        "headModel = Dense(128, activation=\"relu\")(headModel)\n",
        "headModel = Dropout(0.5)(headModel)\n",
        "headModel = Dense(2, activation=\"softmax\")(headModel)\n",
        "model = Model(inputs=baseModel.input, outputs=headModel)\n",
        "for layer in baseModel.layers:\n",
        "\tlayer.trainable = False"
      ],
      "execution_count": null,
      "outputs": []
    },
    {
      "cell_type": "code",
      "metadata": {
        "id": "cxqoPTtBSJiY"
      },
      "source": [
        "INIT_LR = 1e-4\n",
        "EPOCHS = 100\n",
        "BS = 64\n",
        "\n",
        "opt = Adam(lr=INIT_LR,decay=INIT_LR/EPOCHS)\n",
        "model.compile(optimizer=opt,loss=\"sparse_categorical_crossentropy\",metrics=[\"accuracy\"])"
      ],
      "execution_count": null,
      "outputs": []
    },
    {
      "cell_type": "code",
      "metadata": {
        "id": "3LgG4SR5SLpO"
      },
      "source": [
        "from tensorflow import keras\n",
        "class callbacks(keras.callbacks.Callback):\n",
        "  def on_epoch_end(self,epochs,logs={}):\n",
        "    if logs.get('accuracy') > 0.95:\n",
        "      print(\"\\n Accuracy reached \\n\")\n",
        "      self.model.stop_training = True\n",
        "callbacks = callbacks()"
      ],
      "execution_count": null,
      "outputs": []
    },
    {
      "cell_type": "code",
      "metadata": {
        "id": "Kz13mBr9SMTF"
      },
      "source": [
        "H = model.fit(\n",
        "    aug.flow(trainY,trainX),\n",
        "    steps_per_epoch=len(trainX)//BS,\n",
        "    epochs=EPOCHS,shuffle=True,callbacks = [callbacks])"
      ],
      "execution_count": null,
      "outputs": []
    },
    {
      "cell_type": "code",
      "metadata": {
        "id": "hAvjo_0WXb4_"
      },
      "source": [
        "from IPython.display import display, Javascript\n",
        "from google.colab.output import eval_js\n",
        "from base64 import b64decode\n",
        "\n",
        "def take_photo(filename='photo.jpg', quality=0.8):\n",
        "  js = Javascript('''\n",
        "    async function takePhoto(quality) {\n",
        "      const div = document.createElement('div');\n",
        "      const capture = document.createElement('button');\n",
        "      capture.textContent = 'Capture';\n",
        "      div.appendChild(capture);\n",
        "\n",
        "      const video = document.createElement('video');\n",
        "      video.style.display = 'block';\n",
        "      const stream = await navigator.mediaDevices.getUserMedia({video: true});\n",
        "\n",
        "      document.body.appendChild(div);\n",
        "      div.appendChild(video);\n",
        "      video.srcObject = stream;\n",
        "      await video.play();\n",
        "\n",
        "      // Resize the output to fit the video element.\n",
        "      google.colab.output.setIframeHeight(document.documentElement.scrollHeight, true);\n",
        "\n",
        "      // Wait for Capture to be clicked.\n",
        "      await new Promise((resolve) => capture.onclick = resolve);\n",
        "\n",
        "      const canvas = document.createElement('canvas');\n",
        "      canvas.width = video.videoWidth;\n",
        "      canvas.height = video.videoHeight;\n",
        "      canvas.getContext('2d').drawImage(video, 0, 0);\n",
        "      stream.getVideoTracks()[0].stop();\n",
        "      div.remove();\n",
        "      return canvas.toDataURL('image/jpeg', quality);\n",
        "    }\n",
        "    ''')\n",
        "  display(js)\n",
        "  data = eval_js('takePhoto({})'.format(quality))\n",
        "  binary = b64decode(data.split(',')[1])\n",
        "  with open(filename, 'wb') as f:\n",
        "    f.write(binary)\n",
        "  return filename"
      ],
      "execution_count": null,
      "outputs": []
    },
    {
      "cell_type": "code",
      "metadata": {
        "id": "LbHFJ5uAXxvu"
      },
      "source": [
        "\n",
        "def prediction():\n",
        "  filename = take_photo()\n",
        "  path = \"/content/photo.jpg\"\n",
        "  img = plt.imread(path)\n",
        "  plt.imshow(img)\n",
        "  img = load_img(path,target_size=(224,224))\n",
        "  img = img_to_array(img)\n",
        "  img = preprocess_input(img)\n",
        "  img = np.expand_dims(img,axis=0)\n",
        "  clas = ['dry','green']\n",
        "  pred = model.predict(img)\n",
        "  ind = np.argmax(pred[0])\n",
        "  if ind == 0:\n",
        "    val = 'd'\n",
        "  elif ind == 1:\n",
        "    val = 'g'\n",
        "\n",
        "  print(clas[ind])\n",
        "  return clas[ind]"
      ],
      "execution_count": null,
      "outputs": []
    },
    {
      "cell_type": "code",
      "metadata": {
        "id": "F1UoeedOX0kX"
      },
      "source": [
        "prediction()"
      ],
      "execution_count": null,
      "outputs": []
    }
  ]
}